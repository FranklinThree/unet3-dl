{
 "cells": [
  {
   "cell_type": "code",
   "execution_count": 2,
   "metadata": {
    "collapsed": true,
    "ExecuteTime": {
     "start_time": "2023-04-11T14:33:09.825448Z",
     "end_time": "2023-04-11T14:33:15.294563Z"
    }
   },
   "outputs": [],
   "source": [
    "import os\n",
    "import shutil\n",
    "\n",
    "resource_1_folder = \"E:\\\\Programming\\\\python\\\\pytorch\\\\Unet3+\\\\resource_1\"\n",
    "\n",
    "base_folder = \"E:/Programming/python/pytorch/Unet3+\"\n",
    "tre_file_path = \"/Datasets/Brain_MR_Angiography/TubeTK/original/Vessel_annotation_file\"\n",
    "org_MRA_path = \"/Datasets/Brain_MR_Angiography/TubeTK/original/MRA\"\n",
    "T1_label_path = \"/Datasets/Brain_MR_Angiography/TubeTK/original/T1/label\"\n",
    "T1_image_path = \"/Datasets/Brain_MR_Angiography/TubeTK/original/T1/image\"\n",
    "\n",
    "# 将 ~ 转换为用户主目录\n",
    "tre_file_path = base_folder + tre_file_path\n",
    "org_MRA_path = base_folder + org_MRA_path\n",
    "T1_image_path = base_folder + T1_image_path\n",
    "T1_label_path = base_folder + T1_label_path\n",
    "\n",
    "# 创建新的目录（如果不存在）\n",
    "os.makedirs(tre_file_path, exist_ok=True)\n",
    "os.makedirs(org_MRA_path, exist_ok=True)\n",
    "os.makedirs(T1_label_path, exist_ok=True)\n",
    "os.makedirs(T1_image_path, exist_ok=True)\n",
    "\n",
    "for folder in os.listdir(resource_1_folder):\n",
    "    if folder.startswith(\"Normal-\"):\n",
    "        source_folder = os.path.join(resource_1_folder, folder)\n",
    "\n",
    "        in_folder = folder.replace('-', '')\n",
    "        # 复制 T1-Flash 数据文件\n",
    "        t1_flash_filename = f\"{in_folder}-T1-Flash.mha\"\n",
    "\n",
    "        skull_stripped_t1_flash_filename_o = f\"SkullStripped-T1-Flash.mha\"\n",
    "        skull_stripped_t1_flash_filename = f\"{in_folder}-SkullStripped-T1-Flash.mha\"\n",
    "\n",
    "        shutil.copy(os.path.join(source_folder, \"T1-Flash\", t1_flash_filename),\n",
    "                    os.path.join(T1_image_path, t1_flash_filename))\n",
    "\n",
    "        shutil.copy(os.path.join(source_folder, \"AuxillaryData\", skull_stripped_t1_flash_filename_o),\n",
    "                    os.path.join(T1_label_path, skull_stripped_t1_flash_filename))\n",
    "\n",
    "        # 复制 tre 文件\n",
    "        tre_filename_o = f\"VascularNetwork.tre\"\n",
    "        tre_filename = f\"{in_folder}-VascularNetwork.tre\"\n",
    "\n",
    "        shutil.copy(os.path.join(source_folder, \"AuxillaryData\", tre_filename_o),\n",
    "                    os.path.join(tre_file_path, tre_filename))\n",
    "\n",
    "        # 复制 MRA 数据文件\n",
    "        mra_filename = f\"{in_folder}-MRA.mha\"\n",
    "\n",
    "        shutil.copy(os.path.join(source_folder, \"MRA\", mra_filename),\n",
    "                    os.path.join(org_MRA_path, mra_filename))\n",
    "\n"
   ]
  },
  {
   "cell_type": "code",
   "execution_count": null,
   "outputs": [],
   "source": [],
   "metadata": {
    "collapsed": false
   }
  }
 ],
 "metadata": {
  "kernelspec": {
   "display_name": "Python 3",
   "language": "python",
   "name": "python3"
  },
  "language_info": {
   "codemirror_mode": {
    "name": "ipython",
    "version": 2
   },
   "file_extension": ".py",
   "mimetype": "text/x-python",
   "name": "python",
   "nbconvert_exporter": "python",
   "pygments_lexer": "ipython2",
   "version": "2.7.6"
  }
 },
 "nbformat": 4,
 "nbformat_minor": 0
}

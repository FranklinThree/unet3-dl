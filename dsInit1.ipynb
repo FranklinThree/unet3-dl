{
 "cells": [
  {
   "cell_type": "code",
   "execution_count": 4,
   "metadata": {
    "collapsed": true,
    "ExecuteTime": {
     "start_time": "2023-04-11T13:52:27.690417Z",
     "end_time": "2023-04-11T13:52:47.888139Z"
    }
   },
   "outputs": [],
   "source": [
    "import os\n",
    "import shutil\n",
    "\n",
    "def main():\n",
    "\n",
    "    os.chdir('E:/Programming/python/pytorch/Unet3+')\n",
    "    resource_folder = \"resource\"\n",
    "    resource_1_folder = \"resource_1\"\n",
    "    resource_1_rest_folder = \"resource_1_rest\"\n",
    "\n",
    "    # 创建新的目录（如果不存在）\n",
    "    os.makedirs(resource_1_folder, exist_ok=True)\n",
    "    os.makedirs(resource_1_rest_folder, exist_ok=True)\n",
    "\n",
    "    for folder in os.listdir(resource_folder):\n",
    "        # 检查是否为 Normal-XXX 文件夹\n",
    "        if folder.startswith(\"Normal-\"):\n",
    "            source_folder = os.path.join(resource_folder, folder)\n",
    "\n",
    "            # 检查是否存在 AuxillaryData 文件夹\n",
    "            if \"AuxillaryData\" in os.listdir(source_folder):\n",
    "                destination_folder = os.path.join(resource_1_folder, folder)\n",
    "            else:\n",
    "                destination_folder = os.path.join(resource_1_rest_folder, folder)\n",
    "\n",
    "            # 复制文件夹\n",
    "            shutil.copytree(source_folder, destination_folder)\n",
    "\n",
    "if __name__ == \"__main__\":\n",
    "    main()\n"
   ]
  }
 ],
 "metadata": {
  "kernelspec": {
   "display_name": "Python 3",
   "language": "python",
   "name": "python3"
  },
  "language_info": {
   "codemirror_mode": {
    "name": "ipython",
    "version": 2
   },
   "file_extension": ".py",
   "mimetype": "text/x-python",
   "name": "python",
   "nbconvert_exporter": "python",
   "pygments_lexer": "ipython2",
   "version": "2.7.6"
  }
 },
 "nbformat": 4,
 "nbformat_minor": 0
}

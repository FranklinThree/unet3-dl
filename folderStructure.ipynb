{
 "cells": [
  {
   "cell_type": "code",
   "execution_count": 1,
   "metadata": {
    "collapsed": true,
    "ExecuteTime": {
     "start_time": "2023-04-11T13:01:44.710745Z",
     "end_time": "2023-04-11T13:01:47.405374Z"
    }
   },
   "outputs": [
    {
     "name": "stdout",
     "output_type": "stream",
     "text": [
      "目录  的树状图结构: \n"
     ]
    },
    {
     "ename": "FileNotFoundError",
     "evalue": "[WinError 3] 系统找不到指定的路径。: ''",
     "output_type": "error",
     "traceback": [
      "\u001B[1;31m---------------------------------------------------------------------------\u001B[0m",
      "\u001B[1;31mFileNotFoundError\u001B[0m                         Traceback (most recent call last)",
      "Input \u001B[1;32mIn [1]\u001B[0m, in \u001B[0;36m<cell line: 13>\u001B[1;34m()\u001B[0m\n\u001B[0;32m     11\u001B[0m start_directory \u001B[38;5;241m=\u001B[39m \u001B[38;5;28minput\u001B[39m(\u001B[38;5;124m\"\u001B[39m\u001B[38;5;124m请输入要列出的目录: \u001B[39m\u001B[38;5;124m\"\u001B[39m)\n\u001B[0;32m     12\u001B[0m \u001B[38;5;28mprint\u001B[39m(\u001B[38;5;124mf\u001B[39m\u001B[38;5;124m'\u001B[39m\u001B[38;5;124m目录 \u001B[39m\u001B[38;5;132;01m{\u001B[39;00mstart_directory\u001B[38;5;132;01m}\u001B[39;00m\u001B[38;5;124m 的树状图结构: \u001B[39m\u001B[38;5;124m'\u001B[39m)\n\u001B[1;32m---> 13\u001B[0m \u001B[43mlist_files\u001B[49m\u001B[43m(\u001B[49m\u001B[43mstart_directory\u001B[49m\u001B[43m)\u001B[49m\n",
      "Input \u001B[1;32mIn [1]\u001B[0m, in \u001B[0;36mlist_files\u001B[1;34m(start_directory, level)\u001B[0m\n\u001B[0;32m      3\u001B[0m \u001B[38;5;28;01mdef\u001B[39;00m \u001B[38;5;21mlist_files\u001B[39m(start_directory, level\u001B[38;5;241m=\u001B[39m\u001B[38;5;241m0\u001B[39m):\n\u001B[1;32m----> 4\u001B[0m     \u001B[38;5;28;01mfor\u001B[39;00m entry \u001B[38;5;129;01min\u001B[39;00m \u001B[43mos\u001B[49m\u001B[38;5;241;43m.\u001B[39;49m\u001B[43mscandir\u001B[49m\u001B[43m(\u001B[49m\u001B[43mstart_directory\u001B[49m\u001B[43m)\u001B[49m:\n\u001B[0;32m      5\u001B[0m         \u001B[38;5;28;01mif\u001B[39;00m entry\u001B[38;5;241m.\u001B[39mis_file():\n\u001B[0;32m      6\u001B[0m             \u001B[38;5;28mprint\u001B[39m(\u001B[38;5;124mf\u001B[39m\u001B[38;5;124m\"\u001B[39m\u001B[38;5;132;01m{\u001B[39;00m\u001B[38;5;124m'\u001B[39m\u001B[38;5;124m|   \u001B[39m\u001B[38;5;124m'\u001B[39m \u001B[38;5;241m*\u001B[39m (level \u001B[38;5;241m-\u001B[39m \u001B[38;5;241m1\u001B[39m)\u001B[38;5;132;01m}\u001B[39;00m\u001B[38;5;124m|--- \u001B[39m\u001B[38;5;132;01m{\u001B[39;00mentry\u001B[38;5;241m.\u001B[39mname\u001B[38;5;132;01m}\u001B[39;00m\u001B[38;5;124m\"\u001B[39m)\n",
      "\u001B[1;31mFileNotFoundError\u001B[0m: [WinError 3] 系统找不到指定的路径。: ''"
     ]
    }
   ],
   "source": [
    "import os\n",
    "\n",
    "def list_files(start_directory, level=0):\n",
    "    for entry in os.scandir(start_directory):\n",
    "        if entry.is_file():\n",
    "            print(f\"{'|   ' * (level - 1)}|--- {entry.name}\")\n",
    "        elif entry.is_dir():\n",
    "            print(f\"{'|   ' * (level - 1)}|--- {entry.name}\")\n",
    "            list_files(entry.path, level + 1)\n",
    "\n",
    "start_directory = input(\"请输入要列出的目录: \")\n",
    "print(f'目录 {start_directory} 的树状图结构: ')\n",
    "list_files(start_directory)"
   ]
  }
 ],
 "metadata": {
  "kernelspec": {
   "display_name": "Python 3",
   "language": "python",
   "name": "python3"
  },
  "language_info": {
   "codemirror_mode": {
    "name": "ipython",
    "version": 2
   },
   "file_extension": ".py",
   "mimetype": "text/x-python",
   "name": "python",
   "nbconvert_exporter": "python",
   "pygments_lexer": "ipython2",
   "version": "2.7.6"
  }
 },
 "nbformat": 4,
 "nbformat_minor": 0
}
